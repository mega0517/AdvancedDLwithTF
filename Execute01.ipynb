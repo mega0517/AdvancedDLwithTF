{
 "cells": [
  {
   "cell_type": "code",
   "execution_count": null,
   "source": [],
   "outputs": [],
   "metadata": {}
  }
 ],
 "metadata": {
  "orig_nbformat": 4,
  "language_info": {
   "name": "python",
   "version": "3.6.13"
  },
  "kernelspec": {
   "name": "python3",
   "display_name": "Python 3.6.13 64-bit ('keras_study': conda)"
  },
  "interpreter": {
   "hash": "14cf54c1ce65e647196f07b7fc12585791a6c490b763e19d71806a4faa561687"
  }
 },
 "nbformat": 4,
 "nbformat_minor": 2
}