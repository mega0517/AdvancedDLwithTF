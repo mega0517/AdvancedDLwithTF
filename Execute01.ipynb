{
 "cells": [
  {
   "cell_type": "code",
   "execution_count": 6,
   "source": [
    "import pandas as pd\n",
    "titanic_df = pd.read_csv('Titanic_train.csv')\n",
    "\n",
    "print('titanic 변수')\n"
   ],
   "outputs": [
    {
     "output_type": "stream",
     "name": "stdout",
     "text": [
      "tf.Tensor(\n",
      "[[0. 0.]\n",
      " [0. 0.]], shape=(2, 2), dtype=float32)\n"
     ]
    }
   ],
   "metadata": {}
  }
 ],
 "metadata": {
  "orig_nbformat": 4,
  "language_info": {
   "name": "python",
   "version": "3.9.6",
   "mimetype": "text/x-python",
   "codemirror_mode": {
    "name": "ipython",
    "version": 3
   },
   "pygments_lexer": "ipython3",
   "nbconvert_exporter": "python",
   "file_extension": ".py"
  },
  "kernelspec": {
   "name": "python3",
   "display_name": "Python 3.9.6 64-bit ('CodeFirst': conda)"
  },
  "interpreter": {
   "hash": "a474301b18aa178f0c11a48a1783f96bc24a0709c646b66c5a32b6d28ba2a132"
  }
 },
 "nbformat": 4,
 "nbformat_minor": 2
}