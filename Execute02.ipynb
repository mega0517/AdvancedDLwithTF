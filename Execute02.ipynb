{
 "cells": [
  {
   "cell_type": "code",
   "execution_count": 4,
   "source": [
    "import numpy as np\n",
    "import pandas as pd \n",
    "import matplotlib.pyplot as plt\n",
    "import seaborn as sns\n",
    "\n",
    "titanic_df = pd.read_csv('titanic_train.csv')\n",
    "titanic_df.head(3)"
   ],
   "outputs": [
    {
     "output_type": "execute_result",
     "data": {
      "text/html": [
       "<div>\n",
       "<style scoped>\n",
       "    .dataframe tbody tr th:only-of-type {\n",
       "        vertical-align: middle;\n",
       "    }\n",
       "\n",
       "    .dataframe tbody tr th {\n",
       "        vertical-align: top;\n",
       "    }\n",
       "\n",
       "    .dataframe thead th {\n",
       "        text-align: right;\n",
       "    }\n",
       "</style>\n",
       "<table border=\"1\" class=\"dataframe\">\n",
       "  <thead>\n",
       "    <tr style=\"text-align: right;\">\n",
       "      <th></th>\n",
       "      <th>PassengerId</th>\n",
       "      <th>Survived</th>\n",
       "      <th>Pclass</th>\n",
       "      <th>Name</th>\n",
       "      <th>Sex</th>\n",
       "      <th>Age</th>\n",
       "      <th>SibSp</th>\n",
       "      <th>Parch</th>\n",
       "      <th>Ticket</th>\n",
       "      <th>Fare</th>\n",
       "      <th>Cabin</th>\n",
       "      <th>Embarked</th>\n",
       "    </tr>\n",
       "  </thead>\n",
       "  <tbody>\n",
       "    <tr>\n",
       "      <th>0</th>\n",
       "      <td>1</td>\n",
       "      <td>0</td>\n",
       "      <td>3</td>\n",
       "      <td>Braund, Mr. Owen Harris</td>\n",
       "      <td>male</td>\n",
       "      <td>22.0</td>\n",
       "      <td>1</td>\n",
       "      <td>0</td>\n",
       "      <td>A/5 21171</td>\n",
       "      <td>7.2500</td>\n",
       "      <td>NaN</td>\n",
       "      <td>S</td>\n",
       "    </tr>\n",
       "    <tr>\n",
       "      <th>1</th>\n",
       "      <td>2</td>\n",
       "      <td>1</td>\n",
       "      <td>1</td>\n",
       "      <td>Cumings, Mrs. John Bradley (Florence Briggs Th...</td>\n",
       "      <td>female</td>\n",
       "      <td>38.0</td>\n",
       "      <td>1</td>\n",
       "      <td>0</td>\n",
       "      <td>PC 17599</td>\n",
       "      <td>71.2833</td>\n",
       "      <td>C85</td>\n",
       "      <td>C</td>\n",
       "    </tr>\n",
       "    <tr>\n",
       "      <th>2</th>\n",
       "      <td>3</td>\n",
       "      <td>1</td>\n",
       "      <td>3</td>\n",
       "      <td>Heikkinen, Miss. Laina</td>\n",
       "      <td>female</td>\n",
       "      <td>26.0</td>\n",
       "      <td>0</td>\n",
       "      <td>0</td>\n",
       "      <td>STON/O2. 3101282</td>\n",
       "      <td>7.9250</td>\n",
       "      <td>NaN</td>\n",
       "      <td>S</td>\n",
       "    </tr>\n",
       "  </tbody>\n",
       "</table>\n",
       "</div>"
      ],
      "text/plain": [
       "   PassengerId  Survived  Pclass  \\\n",
       "0            1         0       3   \n",
       "1            2         1       1   \n",
       "2            3         1       3   \n",
       "\n",
       "                                                Name     Sex   Age  SibSp  \\\n",
       "0                            Braund, Mr. Owen Harris    male  22.0      1   \n",
       "1  Cumings, Mrs. John Bradley (Florence Briggs Th...  female  38.0      1   \n",
       "2                             Heikkinen, Miss. Laina  female  26.0      0   \n",
       "\n",
       "   Parch            Ticket     Fare Cabin Embarked  \n",
       "0      0         A/5 21171   7.2500   NaN        S  \n",
       "1      0          PC 17599  71.2833   C85        C  \n",
       "2      0  STON/O2. 3101282   7.9250   NaN        S  "
      ]
     },
     "metadata": {},
     "execution_count": 4
    }
   ],
   "metadata": {}
  },
  {
   "cell_type": "code",
   "execution_count": 10,
   "source": [
    "print('학습 데이터 정보 \\n')\n",
    "print(titanic_df.info())"
   ],
   "outputs": [
    {
     "output_type": "stream",
     "name": "stdout",
     "text": [
      "학습 데이터 정보 \n",
      "\n",
      "<class 'pandas.core.frame.DataFrame'>\n",
      "RangeIndex: 891 entries, 0 to 890\n",
      "Data columns (total 12 columns):\n",
      " #   Column       Non-Null Count  Dtype  \n",
      "---  ------       --------------  -----  \n",
      " 0   PassengerId  891 non-null    int64  \n",
      " 1   Survived     891 non-null    int64  \n",
      " 2   Pclass       891 non-null    int64  \n",
      " 3   Name         891 non-null    object \n",
      " 4   Sex          891 non-null    object \n",
      " 5   Age          891 non-null    float64\n",
      " 6   SibSp        891 non-null    int64  \n",
      " 7   Parch        891 non-null    int64  \n",
      " 8   Ticket       891 non-null    object \n",
      " 9   Fare         891 non-null    float64\n",
      " 10  Cabin        891 non-null    object \n",
      " 11  Embarked     891 non-null    object \n",
      "dtypes: float64(2), int64(5), object(5)\n",
      "memory usage: 83.7+ KB\n",
      "None\n"
     ]
    }
   ],
   "metadata": {}
  },
  {
   "cell_type": "code",
   "execution_count": 9,
   "source": [
    "titanic_df['Age'].fillna(titanic_df['Age'].mean(), inplace=True)\n",
    "titanic_df['Cabin'].fillna('N', inplace=True)\n",
    "titanic_df['Embarked'].fillna('N', inplace=True)\n",
    "\n",
    "print('데이터 세트 Null 값 개수', titanic_df.isnull().sum().sum())"
   ],
   "outputs": [
    {
     "output_type": "stream",
     "name": "stdout",
     "text": [
      "데이터 세트 Null 값 개수 0\n"
     ]
    }
   ],
   "metadata": {}
  },
  {
   "cell_type": "code",
   "execution_count": 13,
   "source": [
    "print('Sex 값 분포 :\\n', titanic_df['Sex'].value_counts())\n",
    "print('\\n Cabin 값 분포 :\\n', titanic_df['Cabin'].value_counts())\n",
    "print('\\n Embarked 값 분포 :\\n', titanic_df['Embarked'].value_counts())"
   ],
   "outputs": [
    {
     "output_type": "stream",
     "name": "stdout",
     "text": [
      "Sex 값 분포 :\n",
      " male      577\n",
      "female    314\n",
      "Name: Sex, dtype: int64\n",
      "\n",
      " Cabin 값 분포 :\n",
      " N              687\n",
      "C23 C25 C27      4\n",
      "G6               4\n",
      "B96 B98          4\n",
      "C22 C26          3\n",
      "              ... \n",
      "E34              1\n",
      "C7               1\n",
      "C54              1\n",
      "E36              1\n",
      "C148             1\n",
      "Name: Cabin, Length: 148, dtype: int64\n",
      "\n",
      " Embarked 값 분포 :\n",
      " S    644\n",
      "C    168\n",
      "Q     77\n",
      "N      2\n",
      "Name: Embarked, dtype: int64\n"
     ]
    }
   ],
   "metadata": {}
  },
  {
   "cell_type": "code",
<<<<<<< HEAD
   "execution_count": 15,
   "source": [
    "titanic_df['Cabin'] = titanic_df['Cabin'].str[:1]\n",
    "print(titanic_df['Cabin'].head(5))"
   ],
   "outputs": [
    {
     "output_type": "stream",
     "name": "stdout",
     "text": [
      "0    N\n",
      "1    C\n",
      "2    N\n",
      "3    C\n",
      "4    N\n",
      "Name: Cabin, dtype: object\n"
     ]
    }
   ],
   "metadata": {}
  },
  {
   "cell_type": "code",
   "execution_count": 24,
   "source": [
    "titanic_df.groupby(['Sex', 'Survived'])['Survived'].count()"
   ],
   "outputs": [
    {
     "output_type": "execute_result",
     "data": {
      "text/plain": [
       "Sex     Survived\n",
       "female  0            81\n",
       "        1           233\n",
       "male    0           468\n",
       "        1           109\n",
       "Name: Survived, dtype: int64"
      ]
     },
     "metadata": {},
     "execution_count": 24
    }
   ],
   "metadata": {}
  },
  {
   "cell_type": "code",
   "execution_count": 25,
   "source": [
    "sns.barplot(x='Sex', y='Survived', data = titanic_df)"
   ],
   "outputs": [
    {
     "output_type": "execute_result",
     "data": {
      "text/plain": [
       "<AxesSubplot:xlabel='Sex', ylabel='Survived'>"
      ]
     },
     "metadata": {},
     "execution_count": 25
    },
    {
     "output_type": "display_data",
     "data": {
      "image/png": "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",
      "text/plain": [
       "<Figure size 432x288 with 1 Axes>"
      ]
     },
     "metadata": {
      "needs_background": "light"
     }
    }
   ],
   "metadata": {}
  },
  {
   "cell_type": "code",
   "execution_count": 27,
   "source": [
    "sns.barplot(x='Pclass', y='Survived', hue='Sex', data=titanic_df)"
   ],
   "outputs": [
    {
     "output_type": "execute_result",
     "data": {
      "text/plain": [
       "<AxesSubplot:xlabel='Pclass', ylabel='Survived'>"
      ]
     },
     "metadata": {},
     "execution_count": 27
    },
    {
     "output_type": "display_data",
     "data": {
      "image/png": "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",
      "text/plain": [
       "<Figure size 432x288 with 1 Axes>"
      ]
     },
     "metadata": {
      "needs_background": "light"
     }
    }
   ],
   "metadata": {}
  },
  {
   "cell_type": "code",
   "execution_count": 28,
   "source": [
    "sns.barplot(x='Pclass', y='Survived', data=titanic_df)"
   ],
   "outputs": [
    {
     "output_type": "execute_result",
     "data": {
      "text/plain": [
       "<AxesSubplot:xlabel='Pclass', ylabel='Survived'>"
      ]
     },
     "metadata": {},
     "execution_count": 28
    },
    {
     "output_type": "display_data",
     "data": {
      "image/png": "iVBORw0KGgoAAAANSUhEUgAAAYIAAAEGCAYAAABo25JHAAAAOXRFWHRTb2Z0d2FyZQBNYXRwbG90bGliIHZlcnNpb24zLjQuMiwgaHR0cHM6Ly9tYXRwbG90bGliLm9yZy8rg+JYAAAACXBIWXMAAAsTAAALEwEAmpwYAAATI0lEQVR4nO3df5Bdd33e8ffjNRpjx5QabStGkrEKIkSkxkk2Ih23gdCQyKQZQX7KuCG0EI06FYQ/QHE6xSVQpkXOMA1goqrEdZNJ0dCaJApV4mQIscH8iGRiG8vGjCLAWtkbS7gGy/VUlv3pH3tNr6+udq/kPXu1/r5fM3d0zznfc/dZ35l9fH6nqpAkteuccQeQJI2XRSBJjbMIJKlxFoEkNc4ikKTGnTvuAKdr+fLldckll4w7hiQtKbfddtvRqpoctmzJFcEll1zCvn37xh1DkpaUJN881TJ3DUlS4ywCSWqcRSBJjbMIJKlxFoEkNa7TIkiyIcm9SQ4kuXrI8nclub33uivJE0ku6jKTJOnpOiuCJBPAdcAVwDrgyiTr+sdU1bVVdVlVXQb8OnBzVT3UVSZJ0sm63CJYDxyoqoNVdRzYBWycY/yVwMc7zCNJGqLLC8pWAof6pqeBVw4bmOR8YAOw9RTLNwObAS6++OKFTXkW2bZtGzMzM6xYsYLt27ePO46kRnS5RZAh8071FJyfBm491W6hqtpZVVNVNTU5OfQK6WeFmZkZDh8+zMzMzLijSGpIl0UwDazum14F3H+KsZtwt5AkjUWXRbAXWJtkTZJlzP6x3z04KMnfAV4F/FGHWSRJp9DZMYKqOpFkK3ATMAFcX1X7k2zpLd/RG/oG4M+q6tGuskiSTq3Tu49W1R5gz8C8HQPTNwA3dJlDknRqXlksSY2zCCSpcRaBJDXOIpCkxlkEktQ4i0CSGmcRSFLjLAJJapxFIEmNswgkqXEWgSQ1ziKQpMZZBJLUOItAkhpnEUhS4zp9HsG4/dC7fnfcEU7LhUcfYQK47+gjSyr7bde+adwRJD0DbhFIUuMsAklqnEUgSY2zCCSpcRaBJDWu0yJIsiHJvUkOJLn6FGNeneT2JPuT3NxlHknSyTo7fTTJBHAd8FpgGtibZHdV3d035vnAR4ENVXVfkr/XVR5J0nBdbhGsBw5U1cGqOg7sAjYOjHkj8Mmqug+gqh7sMI8kaYgui2AlcKhvero3r99Lgb+b5C+T3JZk6JVJSTYn2Zdk35EjRzqKK0lt6rIIMmReDUyfC/wQ8FPATwLvTvLSk1aq2llVU1U1NTk5ufBJJalhXd5iYhpY3Te9Crh/yJijVfUo8GiSW4BXAF/rMJckqU+XWwR7gbVJ1iRZBmwCdg+M+SPgnyQ5N8n5wCuBezrMJEka0NkWQVWdSLIVuAmYAK6vqv1JtvSW76iqe5L8KXAn8CTwsaq6q6tMkqSTdXr30araA+wZmLdjYPpa4Nouc0iSTs0riyWpcRaBJDXOIpCkxlkEktQ4i0CSGmcRSFLjntUPr19qnlx2wdP+laTFYBGcRR5d+xPjjiCpQRaBtEC2bdvGzMwMK1asYPv27eOOI43MIpAWyMzMDIcPHx53DOm0ebBYkhpnEUhS4ywCSWqcRSBJjbMIJKlxFoEkNc4ikKTGWQSS1DiLQJIaZxFIUuMsAklqXKdFkGRDknuTHEhy9ZDlr07y7SS3917XdJlHknSyzm46l2QCuA54LTAN7E2yu6ruHhj62ar6Z13lkCTNrcstgvXAgao6WFXHgV3Axg5/niTpDHRZBCuBQ33T0715g/5RkjuS/EmSlw/7oCSbk+xLsu/IkSNdZJWkZnVZBBkyrwamvwy8qKpeAXwY+MNhH1RVO6tqqqqmJicnFzalJDWuyyKYBlb3Ta8C7u8fUFXfqapjvfd7gOckWd5hJknSgC6LYC+wNsmaJMuATcDu/gFJViRJ7/36Xp5vdZhJkjSgs7OGqupEkq3ATcAEcH1V7U+ypbd8B/BzwL9KcgJ4DNhUVYO7jyRJHer0mcW93T17Bubt6Hv/EeAjXWaQJM3NK4slqXEWgSQ1rtNdQ9Izcd97/+G4I5yWEw9dBJzLiYe+uWSyX3zNV8YdQWcBtwgkqXEWgSQ1ziKQpMZZBJLUOItAkhpnEUhS4ywCSWqcRSBJjbMIJKlxFoEkNc4ikKTGWQSS1Lg5bzqX5BFOfs7wd1XV8xY8kSRpUc1ZBFV1IUCS9wIzwO8x+1D6q4ALO08nSercqLuGfrKqPlpVj/QeOP/bwM92GUyStDhGLYInklyVZCLJOUmuAp7oMpgkaXGMWgRvBH4B+Nve6+d78yRJS9xIRVBV36iqjVW1vKomq+r1VfWN+dZLsiHJvUkOJLl6jnE/nOSJJD93GtklSQtgpCJI8tIkn05yV2/60iT/dp51JoDrgCuAdcCVSdadYtwHgJtON7wk6ZkbddfQfwF+HXgcoKruBDbNs8564EBVHayq48AuYOOQcW8DbgQeHDGLJGkBjVoE51fVXw3MOzHPOiuBQ33T071535VkJfAGYMdcH5Rkc5J9SfYdOXJkxMiSpFGMWgRHk7yY3sVlvX35D8yzTobMG7w47T8Bv1ZVc56BVFU7q2qqqqYmJydHjCwtruXnPcnff+4Jlp/35LijSKdlzgvK+vxrYCfwsiSHga8ze1HZXKaB1X3Tq4D7B8ZMAbuSACwHXpfkRFX94Yi5pLPGOy99eNwRpDMyahF8s6p+PMkFwDlV9cgI6+wF1iZZAxxm9pjC0045rao1T71PcgPwKUtAkhbXqLuGvp5kJ/AjwLFRVqiqE8BWZs8Gugf4RFXtT7IlyZYzSitJWnCjbhF8L/DTzO4i+p0knwJ2VdXn5lqpqvYAewbmDT0wXFVvHjGLJGkBjXpB2WNV9Ymq+hngB4DnATd3mkyStChGfh5Bklcl+SjwZeA8Zm85IUla4kbaNZTk68DtwCeAd1XVo12GkiQtnlGPEbyiqr7TaRJJ0ljM94SybVW1HXh/kpOeVFZVb+8smSRpUcy3RXBP7999XQeRJI3HfI+q/OPe2zur6q8XIY8kaZGNetbQB5N8Ncn7kry800SSpEU16nUEPwa8GjgC7EzylfmeRyBJWhpGvo6gqmaq6kPAFmZPJb2mq1CSpMUz6hPKvi/Je3pPKPsI8Hlm7yYqSVriRr2O4L8CHwd+oqoGbyUtSVrC5i2C3jOF/6aqfmsR8kiSFtm8u4Z6Tw97QZJli5BHkrTIRn4wDXBrkt3Ad+8zVFUf7CSVJGnRjFoE9/de5wAXdhdHkrTYRiqCqvqNroNIksZj1NtQfwYYdtO51yx4IknSohp119A7+96fB/wscGLh40iSFtuou4ZuG5h1axIfVSlJzwKj7hq6qG/yHGAKWNFJIknSohp119Bt/P9jBCeAbwBvmW+lJBuA3wImgI9V1X8cWL4ReB/wZO9z31FVnxsxkyRpAcz3hLIfBg5V1Zre9C8ze3zgG8Dd86w7AVwHvBaYBvYm2V1V/et9GthdVZXkUmafifyyM/xdJElnYL4ri/8zcBwgyY8C/wH4b8C3gZ3zrLseOFBVB6vqOLAL2Ng/oKqOVdVTWxoXMOTMJElSt+Yrgomqeqj3/heBnVV1Y1W9G3jJPOuuBA71TU/35j1Nkjck+Srwv4B/OeyDkmxOsi/JviNHjszzYyVJp2PeIkjy1O6jfwr8Rd+y+Y4vZMi8Ydci/EFVvQx4PbPHC05eqWpnVU1V1dTk5OQ8P1aSdDrm+2P+ceDmJEeBx4DPAiR5CbO7h+YyDazum17F7G0qhqqqW5K8OMnyqjo6b3JJ0oKY7+H170/yaeCFwJ/17c8/B3jbPJ+9F1ibZA1wGNgEvLF/QK9Q/qZ3sPgHgWXAt07/15Aknal5Tx+tqi8Omfe1EdY7kWQrcBOzp49eX1X7k2zpLd/B7BlIb0ryOLNbHL/YVzaSpEUw6nUEZ6Sq9gB7Bubt6Hv/AeADXWaQJM2t0yKQpKVg27ZtzMzMsGLFCrZv3z7uOIvOIpDUvJmZGQ4fPjzuGGMz76MqJUnPbhaBJDXOIpCkxlkEktQ4i0CSGmcRSFLjLAJJapxFIEmNswgkqXFeWSypE5d/+PJxRxjZsoeXcQ7ncOjhQ0sq961vu3VBPsctAklqnEUgSY2zCCSpcRaBJDXOIpCkxlkEktQ4i0CSGmcRSFLjOi2CJBuS3JvkQJKrhyy/Ksmdvdfnk7yiyzySpJN1VgRJJoDrgCuAdcCVSdYNDPs68KqquhR4H7CzqzySpOG63CJYDxyoqoNVdRzYBWzsH1BVn6+q/92b/CKwqsM8kqQhuiyClcChvunp3rxTeQvwJx3mkaSh6vziyQuepM6vcUcZiy5vOpch84b+V07yY8wWwT8+xfLNwGaAiy++eKHySRIAj1/++LgjjFWXWwTTwOq+6VXA/YODklwKfAzYWFXfGvZBVbWzqqaqampycrKTsJLUqi6LYC+wNsmaJMuATcDu/gFJLgY+CfxSVX2twyySpFPobNdQVZ1IshW4CZgArq+q/Um29JbvAK4BXgB8NAnAiaqa6iqTJOlknT6Ypqr2AHsG5u3oe/9W4K1dZpAkzc0riyWpcRaBJDXOIpCkxlkEktQ4i0CSGmcRSFLjLAJJapxFIEmNswgkqXEWgSQ1ziKQpMZZBJLUOItAkhpnEUhS4ywCSWqcRSBJjbMIJKlxFoEkNc4ikKTGWQSS1DiLQJIa12kRJNmQ5N4kB5JcPWT5y5J8Icn/TfLOLrNIkoY7t6sPTjIBXAe8FpgG9ibZXVV39w17CHg78PquckiS5tblFsF64EBVHayq48AuYGP/gKp6sKr2Ao93mEOSNIcui2AlcKhvero377Ql2ZxkX5J9R44cWZBwkqRZXRZBhsyrM/mgqtpZVVNVNTU5OfkMY0mS+nVZBNPA6r7pVcD9Hf48SdIZ6LII9gJrk6xJsgzYBOzu8OdJks5AZ2cNVdWJJFuBm4AJ4Pqq2p9kS2/5jiQrgH3A84Ank7wDWFdV3+kqlyTp6TorAoCq2gPsGZi3o+/9DLO7jCRJY+KVxZLUOItAkhpnEUhS4ywCSWqcRSBJjbMIJKlxFoEkNc4ikKTGWQSS1DiLQJIaZxFIUuMsAklqnEUgSY2zCCSpcRaBJDXOIpCkxlkEktQ4i0CSGmcRSFLjLAJJapxFIEmN67QIkmxIcm+SA0muHrI8ST7UW35nkh/sMo8k6WSdFUGSCeA64ApgHXBlknUDw64A1vZem4Hf7iqPJGm4LrcI1gMHqupgVR0HdgEbB8ZsBH63Zn0ReH6SF3aYSZI04NwOP3slcKhvehp45QhjVgIP9A9KspnZLQaAY0nuXdioZ5XlwNFxhzgd+c1fHneEs8nS+v7+Xcad4GyytL47IG8/re/vRada0GURDEtYZzCGqtoJ7FyIUGe7JPuqamrcOXRm/P6Wrpa/uy53DU0Dq/umVwH3n8EYSVKHuiyCvcDaJGuSLAM2AbsHxuwG3tQ7e+hHgG9X1QODHyRJ6k5nu4aq6kSSrcBNwARwfVXtT7Klt3wHsAd4HXAA+D/Av+gqzxLSxC6wZzG/v6Wr2e8uVSftkpckNcQriyWpcRaBJDXOIjhLJLk+yYNJ7hp3Fp2eJKuTfCbJPUn2J/nVcWfS6JKcl+SvktzR+/5+Y9yZFpvHCM4SSX4UOMbsldbfP+48Gl3vavgXVtWXk1wI3Aa8vqruHnM0jSBJgAuq6liS5wCfA361d7eDJrhFcJaoqluAh8adQ6evqh6oqi/33j8C3MPsFfJaAnq3uDnWm3xO79XU/yFbBNICSnIJ8APAl8YcRachyUSS24EHgT+vqqa+P4tAWiBJvge4EXhHVX1n3Hk0uqp6oqouY/buBuuTNLV71iKQFkBv3/KNwO9X1SfHnUdnpqoeBv4S2DDeJIvLIpCeod7Bxt8B7qmqD447j05Pkskkz++9fy7w48BXxxpqkVkEZ4kkHwe+AHxvkukkbxl3Jo3scuCXgNckub33et24Q2lkLwQ+k+ROZu+R9udV9akxZ1pUnj4qSY1zi0CSGmcRSFLjLAJJapxFIEmNswgkqXEWgTQgyRO9U0DvSvI/kpw/x9j3JHnnYuaTFppFIJ3ssaq6rHcX2OPAlnEHkrpkEUhz+yzwEoAkb0pyZ+++9b83ODDJryTZ21t+41NbEkl+vrd1cUeSW3rzXt67B/7tvc9cu6i/ldTHC8qkAUmOVdX3JDmX2fsH/SlwC/BJ4PKqOprkoqp6KMl7gGNV9ZtJXlBV3+p9xr8H/raqPpzkK8CGqjqc5PlV9XCSDwNfrKrfT7IMmKiqx8byC6t5bhFIJ3tu75bE+4D7mL2P0GuA/1lVRwGqatizI74/yWd7f/ivAl7em38rcEOSXwEmevO+APybJL8GvMgS0DidO+4A0lnosd4tib+rd2O5+Tafb2D2yWR3JHkz8GqAqtqS5JXATwG3J7msqv57ki/15t2U5K1V9RcL+2tIo3GLQBrNp4FfSPICgCQXDRlzIfBA75bUVz01M8mLq+pLVXUNcBRYneQfAAer6kPAbuDSzn8D6RTcIpBGUFX7k7wfuDnJE8BfA28eGPZuZp9M9k3gK8wWA8C1vYPBYbZQ7gCuBv55kseBGeC9nf8S0il4sFiSGueuIUlqnEUgSY2zCCSpcRaBJDXOIpCkxlkEktQ4i0CSGvf/AKIhbkER2JhHAAAAAElFTkSuQmCC",
      "text/plain": [
       "<Figure size 432x288 with 1 Axes>"
      ]
     },
     "metadata": {
      "needs_background": "light"
     }
    }
   ],
   "metadata": {}
  },
  {
   "cell_type": "code",
   "execution_count": 30,
   "source": [
    "def get_age_category(age):\n",
    "    cat =''\n",
    "    if age <= -1: cat = 'Unknown'\n",
    "    elif age <= 5: cat = 'Baby'\n",
    "    elif age <= 12: cat = 'Child'\n",
    "    elif age <= 18: cat = 'Teenager'\n",
    "    elif age <= 25: cat = 'Student'\n",
    "    elif age <= 35: cat = 'Young Adult'\n",
    "    elif age <= 60: cat = 'Adult'\n",
    "    else : cat = 'Elderly'\n",
    "\n",
    "    return cat"
   ],
   "outputs": [],
   "metadata": {}
  },
  {
   "cell_type": "code",
   "execution_count": 31,
   "source": [
    "plt.figure(figsize=(10, 6))"
   ],
   "outputs": [
    {
     "output_type": "execute_result",
     "data": {
      "text/plain": [
       "<Figure size 720x432 with 0 Axes>"
      ]
     },
     "metadata": {},
     "execution_count": 31
    },
    {
     "output_type": "display_data",
     "data": {
      "text/plain": [
       "<Figure size 720x432 with 0 Axes>"
      ]
     },
     "metadata": {}
    }
   ],
   "metadata": {}
  },
  {
   "cell_type": "code",
   "execution_count": null,
   "source": [
    "group_names = ['Unknown', 'Baby', 'Child', 'Teenager', 'Student', 'Young Adult', 'Adult', 'Elderly']"
   ],
=======
   "execution_count": null,
   "source": [],
>>>>>>> 7d4d6a03c89093a6f08f54fe59c2730e85f8ecb0
   "outputs": [],
   "metadata": {}
  }
 ],
 "metadata": {
  "orig_nbformat": 4,
  "language_info": {
   "name": "python",
   "version": "3.9.5",
   "mimetype": "text/x-python",
   "codemirror_mode": {
    "name": "ipython",
    "version": 3
   },
   "pygments_lexer": "ipython3",
   "nbconvert_exporter": "python",
   "file_extension": ".py"
  },
  "kernelspec": {
   "name": "python3",
   "display_name": "Python 3.9.5 64-bit ('HelloCoding': conda)"
  },
  "interpreter": {
   "hash": "e02c33c92b8f3d915e512f7ac47f6a2afc0c15665e6e862a1264d61f33485c06"
  }
 },
 "nbformat": 4,
 "nbformat_minor": 2
}